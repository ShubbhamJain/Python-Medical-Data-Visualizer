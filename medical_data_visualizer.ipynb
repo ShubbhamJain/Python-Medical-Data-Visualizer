{
 "cells": [
  {
   "cell_type": "code",
   "execution_count": null,
   "metadata": {},
   "outputs": [],
   "source": [
    "import pandas as pd\n",
    "import seaborn as sns\n",
    "import matplotlib.pyplot as plt\n",
    "import numpy as np\n",
    "\n",
    "try:\n",
    "    url = './medical_examination.csv'\n",
    "    df = pd.read_csv(url, na_values=['-', '?', ''])\n",
    "\n",
    "except Exception as e:\n",
    "    print(e)"
   ]
  },
  {
   "cell_type": "code",
   "execution_count": null,
   "metadata": {},
   "outputs": [],
   "source": [
    "df['overweight'] = np.where(df['weight'] / ((df['height']/100) ** 2) > 25, 1, 0)"
   ]
  },
  {
   "cell_type": "code",
   "execution_count": null,
   "metadata": {},
   "outputs": [],
   "source": [
    "df['cholesterol'] = np.where(df['cholesterol'] == 1, 0, 1)\n",
    "df['gluc'] = np.where(df['gluc'] == 1, 0, 1)"
   ]
  },
  {
   "cell_type": "code",
   "execution_count": null,
   "metadata": {},
   "outputs": [],
   "source": [
    "categorical_features = ['active', 'alco', 'cholesterol', 'gluc', 'overweight', 'smoke']\n",
    "df_cat = df.melt(id_vars=['cardio'], value_vars=categorical_features)\n",
    "fig = sns.catplot(x='variable', hue='value', col='cardio', data=df_cat, kind='count')\n",
    "fig.set_axis_labels('variable', 'total')\n",
    "fig = fig.fig"
   ]
  },
  {
   "cell_type": "code",
   "execution_count": null,
   "metadata": {},
   "outputs": [],
   "source": [
    "df_heat = df[\n",
    "    (df[\"ap_lo\"] <= df[\"ap_hi\"])\n",
    "    & (df[\"height\"] >= df[\"height\"].quantile(0.025))\n",
    "    & (df[\"height\"] <= df[\"height\"].quantile(0.975))\n",
    "    & (df[\"weight\"] >= df[\"weight\"].quantile(0.025))\n",
    "    & (df[\"weight\"] <= df[\"weight\"].quantile(0.975))\n",
    "]"
   ]
  },
  {
   "cell_type": "code",
   "execution_count": null,
   "metadata": {},
   "outputs": [],
   "source": [
    "corr = df_heat.corr()\n",
    "mask = np.triu(np.ones_like(corr))\n",
    "fig, ax = plt.subplots(figsize=(12, 12))\n",
    "graph = sns.heatmap(\n",
    "    corr,\n",
    "    mask=mask,\n",
    "    annot=True,\n",
    "    center=0,\n",
    "    linewidths=1,\n",
    "    square=True,\n",
    "    fmt=\".1f\",\n",
    "    cbar_kws={\"shrink\": 0.5},\n",
    ")\n",
    "fig = graph.figure"
   ]
  }
 ],
 "metadata": {
  "interpreter": {
   "hash": "b0fa6594d8f4cbf19f97940f81e996739fb7646882a419484c72d19e05852a7e"
  },
  "kernelspec": {
   "display_name": "Python 3.9.10 64-bit",
   "language": "python",
   "name": "python3"
  },
  "language_info": {
   "codemirror_mode": {
    "name": "ipython",
    "version": 3
   },
   "file_extension": ".py",
   "mimetype": "text/x-python",
   "name": "python",
   "nbconvert_exporter": "python",
   "pygments_lexer": "ipython3",
   "version": "3.9.10"
  },
  "orig_nbformat": 4
 },
 "nbformat": 4,
 "nbformat_minor": 2
}
